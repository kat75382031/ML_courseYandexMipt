{
 "cells": [
  {
   "cell_type": "code",
   "execution_count": 4,
   "metadata": {},
   "outputs": [],
   "source": [
    "from sklearn.datasets import load_digits,load_breast_cancer\n",
    "from sklearn.naive_bayes import GaussianNB,MultinomialNB, BernoulliNB\n",
    "from sklearn.model_selection import cross_val_score"
   ]
  },
  {
   "cell_type": "code",
   "execution_count": 24,
   "metadata": {},
   "outputs": [],
   "source": [
    "digits=load_digits()\n",
    "cancer=load_breast_cancer()"
   ]
  },
  {
   "cell_type": "code",
   "execution_count": null,
   "metadata": {},
   "outputs": [],
   "source": []
  },
  {
   "cell_type": "code",
   "execution_count": 6,
   "metadata": {},
   "outputs": [],
   "source": [
    "gnb=GaussianNB()\n",
    "mnb=MultinomialNB()\n",
    "bnb=BernoulliNB()"
   ]
  },
  {
   "cell_type": "code",
   "execution_count": 40,
   "metadata": {},
   "outputs": [],
   "source": [
    "cancer_score_gnb=cross_val_score(gnb,cancer.data,cancer.target,scoring='accuracy',cv=3)\n",
    "cancer_score_mnb=cross_val_score(mnb,cancer.data,cancer.target,scoring='accuracy',cv=3)\n",
    "cancer_score_bnb=cross_val_score(bnb,cancer.data,cancer.target,scoring='accuracy',cv=3)"
   ]
  },
  {
   "cell_type": "code",
   "execution_count": 41,
   "metadata": {},
   "outputs": [
    {
     "name": "stdout",
     "output_type": "stream",
     "text": [
      "0.9367492806089297\n",
      "0.8945790401930752\n",
      "0.6274204028589994\n"
     ]
    }
   ],
   "source": [
    "print(cancer_score_gnb.mean())\n",
    "print(cancer_score_mnb.mean())\n",
    "print(cancer_score_bnb.mean())"
   ]
  },
  {
   "cell_type": "code",
   "execution_count": 20,
   "metadata": {},
   "outputs": [],
   "source": [
    "digits_score_gnb=cross_val_score(gnb,digits.data,digits.target,scoring='accuracy',cv=5)\n",
    "digits_score_mnb=cross_val_score(mnb,digits.data,digits.target,scoring='accuracy',cv=5)\n",
    "digits_score_bnb=cross_val_score(bnb,digits.data,digits.target,scoring='accuracy',cv=5)"
   ]
  },
  {
   "cell_type": "code",
   "execution_count": 21,
   "metadata": {},
   "outputs": [
    {
     "name": "stdout",
     "output_type": "stream",
     "text": [
      "0.8065207555552298\n",
      "0.8714703025475334\n",
      "0.8247710459804785\n"
     ]
    }
   ],
   "source": [
    "print(digits_score_gnb.mean())\n",
    "print(digits_score_mnb.mean())\n",
    "print(digits_score_bnb.mean())"
   ]
  },
  {
   "cell_type": "code",
   "execution_count": 42,
   "metadata": {},
   "outputs": [
    {
     "name": "stdout",
     "output_type": "stream",
     "text": [
      "0.9367492806089297"
     ]
    }
   ],
   "source": [
    "f=open('ans1.txt','w')\n",
    "f.write('0.9367492806089297')\n",
    "f.close()\n",
    "!cat ans1.txt"
   ]
  },
  {
   "cell_type": "code",
   "execution_count": 38,
   "metadata": {},
   "outputs": [
    {
     "name": "stdout",
     "output_type": "stream",
     "text": [
      "0.8714703025475334"
     ]
    }
   ],
   "source": [
    "f=open('ans2.txt','w')\n",
    "f.write('0.8714703025475334')\n",
    "f.close()\n",
    "!cat ans2.txt"
   ]
  },
  {
   "cell_type": "code",
   "execution_count": 43,
   "metadata": {},
   "outputs": [
    {
     "name": "stdout",
     "output_type": "stream",
     "text": [
      "3 4"
     ]
    }
   ],
   "source": [
    "f=open('ans3.txt','w')\n",
    "f.write('3 4')\n",
    "f.close()\n",
    "!cat ans3.txt"
   ]
  },
  {
   "cell_type": "code",
   "execution_count": null,
   "metadata": {},
   "outputs": [],
   "source": []
  }
 ],
 "metadata": {
  "kernelspec": {
   "display_name": "Python 3",
   "language": "python",
   "name": "python3"
  },
  "language_info": {
   "codemirror_mode": {
    "name": "ipython",
    "version": 3
   },
   "file_extension": ".py",
   "mimetype": "text/x-python",
   "name": "python",
   "nbconvert_exporter": "python",
   "pygments_lexer": "ipython3",
   "version": "3.7.4"
  }
 },
 "nbformat": 4,
 "nbformat_minor": 2
}
