{
 "cells": [
  {
   "cell_type": "markdown",
   "metadata": {},
   "source": [
    "# Градиентный бустинг своими руками\n",
    "\n",
    "**Внимание:** в тексте задания произошли изменения - поменялось число деревьев (теперь 50), правило изменения величины шага в задании 3 и добавился параметр `random_state` у решающего дерева. Правильные ответы не поменялись, но теперь их проще получить. Также исправлена опечатка в функции `gbm_predict`.\n",
    "\n",
    "В этом задании будет использоваться датасет `boston` из `sklearn.datasets`. Оставьте последние 25% объектов для контроля качества, разделив `X` и `y` на `X_train`, `y_train` и `X_test`, `y_test`.\n",
    "\n",
    "Целью задания будет реализовать простой вариант градиентного бустинга над регрессионными деревьями для случая квадратичной функции потерь."
   ]
  },
  {
   "cell_type": "code",
   "execution_count": 105,
   "metadata": {},
   "outputs": [],
   "source": [
    "import numpy as np\n",
    "from sklearn.model_selection import train_test_split\n",
    "from sklearn.tree import DecisionTreeRegressor\n",
    "from sklearn import datasets\n",
    "from sklearn.metrics import mean_squared_error\n",
    "from sklearn.model_selection import cross_val_score\n",
    "from sklearn.linear_model import LinearRegression"
   ]
  },
  {
   "cell_type": "markdown",
   "metadata": {},
   "source": [
    "## Задание 1\n",
    "\n",
    "Как вы уже знаете из лекций, **бустинг** - это метод построения композиций базовых алгоритмов с помощью последовательного добавления к текущей композиции нового алгоритма с некоторым коэффициентом. \n",
    "\n",
    "Градиентный бустинг обучает каждый новый алгоритм так, чтобы он приближал антиградиент ошибки по ответам композиции на обучающей выборке. Аналогично минимизации функций методом градиентного спуска, в градиентном бустинге мы подправляем композицию, изменяя алгоритм в направлении антиградиента ошибки.\n",
    "\n",
    "Воспользуйтесь формулой из лекций, задающей ответы на обучающей выборке, на которые нужно обучать новый алгоритм (фактически это лишь чуть более подробно расписанный градиент от ошибки), и получите частный ее случай, если функция потерь `L` - квадрат отклонения ответа композиции `a(x)` от правильного ответа `y` на данном `x`.\n",
    "\n",
    "Если вы давно не считали производную самостоятельно, вам поможет таблица производных элементарных функций (которую несложно найти в интернете) и правило дифференцирования сложной функции. После дифференцирования квадрата у вас возникнет множитель 2 — т.к. нам все равно предстоит выбирать коэффициент, с которым будет добавлен новый базовый алгоритм, проигноируйте этот множитель при дальнейшем построении алгоритма."
   ]
  },
  {
   "cell_type": "code",
   "execution_count": 106,
   "metadata": {},
   "outputs": [],
   "source": [
    "def Antigrad(y,z):\n",
    "    return -(z-y)"
   ]
  },
  {
   "cell_type": "markdown",
   "metadata": {},
   "source": [
    "## Задание 2\n",
    "\n",
    "Заведите массив для объектов `DecisionTreeRegressor` (будем их использовать в качестве базовых алгоритмов) и для вещественных чисел (это будут коэффициенты перед базовыми алгоритмами). \n",
    "\n",
    "В цикле от обучите последовательно 50 решающих деревьев с параметрами `max_depth=5` и `random_state=42` (остальные параметры - по умолчанию). В бустинге зачастую используются сотни и тысячи деревьев, но мы ограничимся 50, чтобы алгоритм работал быстрее, и его было проще отлаживать (т.к. цель задания разобраться, как работает метод). Каждое дерево должно обучаться на одном и том же множестве объектов, но ответы, которые учится прогнозировать дерево, будут меняться в соответствие с полученным в задании 1 правилом. \n",
    "\n",
    "Попробуйте для начала всегда брать коэффициент равным 0.9. Обычно оправдано выбирать коэффициент значительно меньшим - порядка 0.05 или 0.1, но т.к. в нашем учебном примере на стандартном датасете будет всего 50 деревьев, возьмем для начала шаг побольше.\n",
    "\n",
    "В процессе реализации обучения вам потребуется функция, которая будет вычислять прогноз построенной на данный момент композиции деревьев на выборке `X`:\n",
    "\n",
    "```\n",
    "def gbm_predict(X):\n",
    "    return [sum([coeff * algo.predict([x])[0] for algo, coeff in zip(base_algorithms_list, coefficients_list)]) for x in X]\n",
    "(считаем, что base_algorithms_list - список с базовыми алгоритмами, coefficients_list - список с коэффициентами перед алгоритмами)\n",
    "```\n",
    "\n",
    "Эта же функция поможет вам получить прогноз на контрольной выборке и оценить качество работы вашего алгоритма с помощью `mean_squared_error` в `sklearn.metrics`. \n",
    "\n",
    "Возведите результат в степень 0.5, чтобы получить `RMSE`. Полученное значение `RMSE` — **ответ в пункте 2**."
   ]
  },
  {
   "cell_type": "code",
   "execution_count": 155,
   "metadata": {},
   "outputs": [],
   "source": [
    "data = datasets.load_boston()\n",
    "X_train=data.data[:-127]\n",
    "X_test=data.data[-127:]\n",
    "y_train=data.target[:-127]\n",
    "y_test=data.target[-127:]"
   ]
  },
  {
   "cell_type": "code",
   "execution_count": 156,
   "metadata": {},
   "outputs": [
    {
     "name": "stdout",
     "output_type": "stream",
     "text": [
      "705.9960949868074\n",
      "12.331605457099899\n",
      "3.141636385796952\n",
      "2.124055499201814\n",
      "1.4043792015119663\n",
      "1.044955283595192\n",
      "0.6718226467537942\n",
      "0.49952057509534314\n",
      "0.3521820468222293\n",
      "0.2889922320622584\n",
      "0.1984452548657374\n",
      "0.14597519729435443\n",
      "0.11045479418616677\n",
      "0.08873097417775293\n",
      "0.07272042240399273\n",
      "0.05616586857397539\n",
      "0.04265208395104793\n",
      "0.02852878830113662\n",
      "0.020589484057948155\n",
      "0.016971165489826686\n",
      "0.011030487621622165\n",
      "0.008433798633814807\n",
      "0.0066748932315379116\n",
      "0.006084375708883344\n",
      "0.004474324685446014\n",
      "0.0035766729030140103\n",
      "0.002487748851654967\n",
      "0.0019207464152065587\n",
      "0.0016256826608843976\n",
      "0.001561596905425781\n",
      "0.0011817942345275715\n",
      "0.0008060965486453393\n",
      "0.0006625072974149896\n",
      "0.0005805707807542766\n",
      "0.0004845551859639405\n",
      "0.00035913491710383465\n",
      "0.00024232901008303212\n",
      "0.00021044857338676706\n",
      "0.0001501762478786184\n",
      "0.00011042938444587933\n",
      "9.540331504391448e-05\n",
      "6.573113001741998e-05\n",
      "5.164589963410478e-05\n",
      "3.664985853628341e-05\n",
      "3.071078659555066e-05\n",
      "2.122782592722895e-05\n",
      "1.3744315699221521e-05\n",
      "1.1541475627309934e-05\n",
      "1.0080884232222834e-05\n"
     ]
    }
   ],
   "source": [
    "trees=[]\n",
    "coeffs=[0.9]*50\n",
    "trees.append(DecisionTreeRegressor(max_depth=5,random_state=42).fit(X_train,[0]*379))\n",
    "def gbm_predict(X):\n",
    "    return [sum([coeff * algo.predict([x])[0] for algo, coeff in zip(trees, coeffs)]) for x in X]\n",
    "for i in range(1,50):\n",
    "    print(mean_squared_error(y_train,gbm_predict(X_train)))\n",
    "    y=Antigrad(y_train,gbm_predict(X_train))\n",
    "    trees.append(DecisionTreeRegressor(max_depth=5,random_state=42).fit(X_train,y))"
   ]
  },
  {
   "cell_type": "code",
   "execution_count": 157,
   "metadata": {},
   "outputs": [
    {
     "name": "stdout",
     "output_type": "stream",
     "text": [
      "5.455680205433292"
     ]
    }
   ],
   "source": [
    "RMSE=(mean_squared_error(y_test,gbm_predict(X_test)))**0.5\n",
    "f=open('answer2.txt','w')\n",
    "f.write(str(RMSE))\n",
    "f.close()\n",
    "!cat answer2.txt"
   ]
  },
  {
   "cell_type": "markdown",
   "metadata": {},
   "source": [
    "## Задание 3\n",
    "\n",
    "Вас может также беспокоить, что двигаясь с постоянным шагом, вблизи минимума ошибки ответы на обучающей выборке меняются слишком резко, перескакивая через минимум. \n",
    "\n",
    "Попробуйте уменьшать вес перед каждым алгоритмом с каждой следующей итерацией по формуле `0.9 / (1.0 + i)`, где `i` - номер итерации (от 0 до 49). Используйте качество работы алгоритма как **ответ в пункте 3**. \n",
    "\n",
    "В реальности часто применяется следующая стратегия выбора шага: как только выбран алгоритм, подберем коэффициент перед ним численным методом оптимизации таким образом, чтобы отклонение от правильных ответов было минимальным. Мы не будем предлагать вам реализовать это для выполнения задания, но рекомендуем попробовать разобраться с такой стратегией и реализовать ее при случае для себя."
   ]
  },
  {
   "cell_type": "code",
   "execution_count": 158,
   "metadata": {},
   "outputs": [
    {
     "name": "stdout",
     "output_type": "stream",
     "text": [
      "[0.9, 0.45, 0.3, 0.225, 0.18, 0.15, 0.1285714285714286, 0.1125, 0.1, 0.09, 0.08181818181818182, 0.075, 0.06923076923076923, 0.0642857142857143, 0.060000000000000005, 0.05625, 0.052941176470588235, 0.05, 0.04736842105263158, 0.045, 0.04285714285714286, 0.04090909090909091, 0.0391304347826087, 0.0375, 0.036000000000000004, 0.03461538461538462, 0.03333333333333333, 0.03214285714285715, 0.03103448275862069, 0.030000000000000002, 0.02903225806451613, 0.028125, 0.027272727272727275, 0.026470588235294117, 0.025714285714285714, 0.025, 0.024324324324324326, 0.02368421052631579, 0.023076923076923078, 0.0225, 0.021951219512195124, 0.02142857142857143, 0.020930232558139535, 0.020454545454545454, 0.02, 0.01956521739130435, 0.019148936170212766, 0.01875, 0.018367346938775512]\n"
     ]
    }
   ],
   "source": [
    "trees=[]\n",
    "coeffs=[]\n",
    "trees.append(DecisionTreeRegressor(max_depth=5,random_state=42).fit(X_train,[0]*379))\n",
    "def gbm_predict(X):\n",
    "    return [sum([coeff * algo.predict([x])[0] for algo, coeff in zip(trees, coeffs)]) for x in X]\n",
    "for i in range(1,50):\n",
    "    coeffs.append(0.9/i)\n",
    "    y=Antigrad(y_train,gbm_predict(X_train))\n",
    "    trees.append(DecisionTreeRegressor(max_depth=5,random_state=42).fit(X_train,y))\n",
    "print(coeffs)"
   ]
  },
  {
   "cell_type": "code",
   "execution_count": 159,
   "metadata": {},
   "outputs": [
    {
     "name": "stdout",
     "output_type": "stream",
     "text": [
      "4.568413218424064"
     ]
    }
   ],
   "source": [
    "RMSE=(mean_squared_error(y_test,gbm_predict(X_test)))**0.5\n",
    "f=open('answer3.txt','w')\n",
    "f.write(str(RMSE))\n",
    "f.close()\n",
    "!cat answer3.txt"
   ]
  },
  {
   "cell_type": "markdown",
   "metadata": {},
   "source": [
    "https://habr.com/ru/company/ods/blog/327250/#5-domashnee-zadanie\n",
    "Здесь о том, как подобрать коэффициент при новом алгоритме\n",
    "Для mse все коэффициентв равны 1"
   ]
  },
  {
   "cell_type": "markdown",
   "metadata": {},
   "source": [
    "Моя реализация: по сути, после обучения n-ого алгоритма, находим коэффициент с помощью обучения линейной регрессии, где в качестве ответов -  y_tr (это ошибка композиции n-1 алгоритма на обучающих данных, то, что мы и приближаем), а в качестве обучающих признаков - предсказание нашего последнего алгоритма (n-ого), который должен сократить ошибку предыдущих. Но эти формулы заложены в формуле mse, особенно для антиградинта, поэтому коэыфициентв получились 1\n",
    "Ошибка на тренировочных данных при таком подходе сильно сократилась\n",
    "А на тестовых стала меньше по сравнению с первым алгоритмом"
   ]
  },
  {
   "cell_type": "code",
   "execution_count": 151,
   "metadata": {},
   "outputs": [
    {
     "name": "stdout",
     "output_type": "stream",
     "text": [
      "705.9960949868074\n",
      "[1.]\n",
      "5.324893441648318\n",
      "[1.]\n",
      "2.8921229119427037\n",
      "[1.]\n",
      "2.480253009619637\n",
      "[1.]\n",
      "1.951633974902486\n",
      "[1.]\n",
      "1.2956178370007625\n",
      "[1.]\n",
      "1.0462220336592132\n",
      "[1.]\n",
      "0.816194532347826\n",
      "[1.]\n",
      "0.5938563896965636\n",
      "[1.]\n",
      "0.46195204611097257\n",
      "[1.]\n",
      "0.3569548890695\n",
      "[1.]\n",
      "0.25495363629478945\n",
      "[1.]\n",
      "0.1961969664383912\n",
      "[1.]\n",
      "0.16541111299063557\n",
      "[1.]\n",
      "0.1202813912308429\n",
      "[1.]\n",
      "0.09580794215484383\n",
      "[1.]\n",
      "0.08290383199113177\n",
      "[1.]\n",
      "0.06852134986922866\n",
      "[1.]\n",
      "0.05597812849520146\n",
      "[1.]\n",
      "0.03836505082269353\n",
      "[1.]\n",
      "0.029312698546983273\n",
      "[1.]\n",
      "0.021879910586897623\n",
      "[1.]\n",
      "0.01498880488784695\n",
      "[1.]\n",
      "0.012142842754937629\n",
      "[1.]\n",
      "0.00879054208375227\n",
      "[1.]\n",
      "0.006430129239283376\n",
      "[1.]\n",
      "0.004831929574222529\n",
      "[1.]\n",
      "0.0035244007523876704\n",
      "[1.]\n",
      "0.0027359117909441623\n",
      "[1.]\n",
      "0.0022037195514119064\n",
      "[1.]\n",
      "0.0015547930326506192\n",
      "[1.]\n",
      "0.0013525418608015263\n",
      "[1.]\n",
      "0.001046122377589772\n",
      "[1.]\n",
      "0.0008286293936286599\n",
      "[1.]\n",
      "0.0006396043468111595\n",
      "[1.]\n",
      "0.0005068680617381513\n",
      "[1.]\n",
      "0.0003544131141925454\n",
      "[1.]\n",
      "0.0002758526377765966\n",
      "[1.]\n",
      "0.0001940921845493176\n",
      "[1.]\n",
      "0.00016188027096682338\n",
      "[1.]\n",
      "0.00014117306514505108\n",
      "[1.]\n",
      "8.620754180279331e-05\n",
      "[1.]\n",
      "7.846966278405306e-05\n",
      "[1.]\n",
      "6.258096144864664e-05\n",
      "[1.]\n",
      "4.274647513100875e-05\n",
      "[1.]\n",
      "3.244467991740944e-05\n",
      "[1.]\n",
      "2.3847457745190663e-05\n",
      "[1.]\n",
      "1.63706607322258e-05\n",
      "[1.]\n",
      "1.2057157640746031e-05\n",
      "[1.]\n"
     ]
    }
   ],
   "source": [
    "trees=[]\n",
    "best_coeffs=[]\n",
    "best_coeffs.append(1)\n",
    "trees.append(DecisionTreeRegressor(max_depth=5,random_state=42).fit(X_train,[0]*379))\n",
    "def gbm_predict(X):\n",
    "    return [sum([coeff * algo.predict([x])[0] for algo, coeff in zip(trees, best_coeffs)]) for x in X]\n",
    "for i in range(1,50):\n",
    "    print(mean_squared_error(y_train,gbm_predict(X_train)))\n",
    "    y=Antigrad(y_train,gbm_predict(X_train))\n",
    "    trees.append(DecisionTreeRegressor(max_depth=5,random_state=42).fit(X_train,y))\n",
    "    y_tr=y_train-gbm_predict(X_train)\n",
    "    regressor=LinearRegression().fit(trees[-1].predict(X_train).reshape(379,1), y_tr)\n",
    "    print(regressor.coef_)\n",
    "    best_coeffs.append(float(regressor.coef_))"
   ]
  },
  {
   "cell_type": "code",
   "execution_count": 154,
   "metadata": {},
   "outputs": [
    {
     "name": "stdout",
     "output_type": "stream",
     "text": [
      "4.987926070594047\n"
     ]
    }
   ],
   "source": [
    "RMSE=(mean_squared_error(y_test,gbm_predict(X_test)))**0.5\n",
    "print(RMSE)"
   ]
  },
  {
   "cell_type": "markdown",
   "metadata": {},
   "source": [
    "## Задание 4\n",
    "\n",
    "Реализованный вами метод - градиентный бустинг над деревьями - очень популярен в машинном обучении. Он представлен как в самой библиотеке `sklearn`, так и в сторонней библиотеке `XGBoost`, которая имеет свой питоновский интерфейс. На практике `XGBoost` работает заметно лучше `GradientBoostingRegressor` из `sklearn`, но для этого задания вы можете использовать любую реализацию. \n",
    "\n",
    "Исследуйте, переобучается ли градиентный бустинг с ростом числа итераций (и подумайте, почему), а также с ростом глубины деревьев. На основе наблюдений выпишите через пробел номера правильных из приведенных ниже утверждений в порядке возрастания номера (это будет **ответ в п.4**):\n",
    "\n",
    "    1. С увеличением числа деревьев, начиная с некоторого момента, качество работы градиентного бустинга не меняется существенно.\n",
    "\n",
    "    2. С увеличением числа деревьев, начиная с некоторого момента, градиентный бустинг начинает переобучаться.\n",
    "\n",
    "    3. С ростом глубины деревьев, начиная с некоторого момента, качество работы градиентного бустинга на тестовой выборке начинает ухудшаться.\n",
    "\n",
    "    4. С ростом глубины деревьев, начиная с некоторого момента, качество работы градиентного бустинга перестает существенно изменяться"
   ]
  },
  {
   "cell_type": "markdown",
   "metadata": {},
   "source": [
    "## Задание 4\n",
    "\n",
    "Реализованный вами метод - градиентный бустинг над деревьями - очень популярен в машинном обучении. Он представлен как в самой библиотеке `sklearn`, так и в сторонней библиотеке `XGBoost`, которая имеет свой питоновский интерфейс. На практике `XGBoost` работает заметно лучше `GradientBoostingRegressor` из `sklearn`, но для этого задания вы можете использовать любую реализацию. \n",
    "\n",
    "Исследуйте, переобучается ли градиентный бустинг с ростом числа итераций (и подумайте, почему), а также с ростом глубины деревьев. На основе наблюдений выпишите через пробел номера правильных из приведенных ниже утверждений в порядке возрастания номера (это будет **ответ в п.4**):\n",
    "\n",
    "    1. С увеличением числа деревьев, начиная с некоторого момента, качество работы градиентного бустинга не меняется существенно.\n",
    "\n",
    "    2. С увеличением числа деревьев, начиная с некоторого момента, градиентный бустинг начинает переобучаться.\n",
    "\n",
    "    3. С ростом глубины деревьев, начиная с некоторого момента, качество работы градиентного бустинга на тестовой выборке начинает ухудшаться.\n",
    "\n",
    "    4. С ростом глубины деревьев, начиная с некоторого момента, качество работы градиентного бустинга перестает существенно изменяться"
   ]
  },
  {
   "cell_type": "code",
   "execution_count": 92,
   "metadata": {},
   "outputs": [],
   "source": [
    "from sklearn.metrics import make_scorer\n",
    "def mserror(y, y_pred):\n",
    "    return sum((y-y_pred)**2)/len(y)\n",
    "mse_scorer=make_scorer(mserror,greater_is_better=True)"
   ]
  },
  {
   "cell_type": "code",
   "execution_count": 95,
   "metadata": {},
   "outputs": [
    {
     "name": "stdout",
     "output_type": "stream",
     "text": [
      "Populating the interactive namespace from numpy and matplotlib\n"
     ]
    }
   ],
   "source": [
    "from sklearn.ensemble import GradientBoostingRegressor\n",
    "\n",
    "%pylab inline\n",
    "\n",
    "n_trees = [1] + list(range(10, 205, 5))\n",
    "scoring = []\n",
    "for n_tree in n_trees:\n",
    "    estimator = GradientBoostingRegressor(n_estimators=n_tree,random_state=1).fit(X_train,y_train)\n",
    "    score = cross_val_score(estimator, X_test, y_test, \n",
    "                                             scoring = mse_scorer, cv = 5)    \n",
    "    scoring.append(score**0.5)\n",
    "scoring = np.asmatrix(scoring)"
   ]
  },
  {
   "cell_type": "code",
   "execution_count": 96,
   "metadata": {},
   "outputs": [
    {
     "data": {
      "text/plain": [
       "<matplotlib.legend.Legend at 0x7f52415a8990>"
      ]
     },
     "execution_count": 96,
     "metadata": {},
     "output_type": "execute_result"
    },
    {
     "data": {
      "image/png": "[encoded data removed]",
      "text/plain": [
       "<Figure size 432x288 with 1 Axes>"
      ]
     },
     "metadata": {
      "needs_background": "light"
     },
     "output_type": "display_data"
    }
   ],
   "source": [
    "pylab.plot(n_trees, scoring.mean(axis = 1), marker='.', label='Gradient boost')\n",
    "pylab.grid(True)\n",
    "pylab.xlabel('n_trees')\n",
    "pylab.ylabel('score')\n",
    "pylab.title('MSE score')\n",
    "pylab.legend(loc='lower right')"
   ]
  },
  {
   "cell_type": "code",
   "execution_count": 98,
   "metadata": {},
   "outputs": [],
   "source": [
    "from sklearn.ensemble import GradientBoostingRegressor\n",
    "\n",
    "max_depth =list(range(1, 20))\n",
    "scoring = []\n",
    "for depth in max_depth:\n",
    "    estimator = GradientBoostingRegressor(n_estimators=20,random_state=1,max_depth=depth).fit(X_train,y_train)\n",
    "    \n",
    "    score = cross_val_score(estimator, X_test, y_test, \n",
    "                                             scoring = mse_scorer, cv = 5)    \n",
    "    scoring.append(score**0.5)\n",
    "scoring = np.asmatrix(scoring)"
   ]
  },
  {
   "cell_type": "code",
   "execution_count": 99,
   "metadata": {},
   "outputs": [
    {
     "data": {
      "text/plain": [
       "<matplotlib.legend.Legend at 0x7f52415e6f50>"
      ]
     },
     "execution_count": 99,
     "metadata": {},
     "output_type": "execute_result"
    },
    {
     "data": {
      "image/png": "[encoded data removed]",
      "text/plain": [
       "<Figure size 432x288 with 1 Axes>"
      ]
     },
     "metadata": {
      "needs_background": "light"
     },
     "output_type": "display_data"
    }
   ],
   "source": [
    "pylab.plot(max_depth, scoring.mean(axis = 1), marker='.', label='Gradient boost')\n",
    "pylab.grid(True)\n",
    "pylab.xlabel('max_depth')\n",
    "pylab.ylabel('score')\n",
    "pylab.title('MSE score')\n",
    "pylab.legend(loc='lower right')"
   ]
  },
  {
   "cell_type": "code",
   "execution_count": 72,
   "metadata": {},
   "outputs": [
    {
     "name": "stdout",
     "output_type": "stream",
     "text": [
      "2 3"
     ]
    }
   ],
   "source": [
    "f=open('answer4.txt','w')\n",
    "f.write('2 3')\n",
    "f.close()\n",
    "!cat answer4.txt"
   ]
  },
  {
   "cell_type": "markdown",
   "metadata": {},
   "source": [
    "## Задание 5\n",
    "\n",
    "Сравните получаемое с помощью градиентного бустинга качество с качеством работы линейной регрессии. \n",
    "\n",
    "Для этого обучите `LinearRegression` из `sklearn.linear_model` (с параметрами по умолчанию) на обучающей выборке и оцените для прогнозов полученного алгоритма на тестовой выборке `RMSE`. Полученное качество - ответ в **пункте 5**. \n",
    "\n",
    "В данном примере качество работы простой модели должно было оказаться хуже, но не стоит забывать, что так бывает не всегда. В заданиях к этому курсу вы еще встретите пример обратной ситуации."
   ]
  },
  {
   "cell_type": "code",
   "execution_count": 91,
   "metadata": {},
   "outputs": [
    {
     "name": "stdout",
     "output_type": "stream",
     "text": [
      "8.254979753549161"
     ]
    }
   ],
   "source": [
    "regressor = LinearRegression().fit(X_train,y_train)\n",
    "RMSE=(mean_squared_error(y_test,regressor.predict(X_test)))**0.5\n",
    "f=open('answer5.txt','w')\n",
    "f.write(str(RMSE))\n",
    "f.close()\n",
    "!cat answer5.txt"
   ]
  },
  {
   "cell_type": "code",
   "execution_count": null,
   "metadata": {},
   "outputs": [],
   "source": []
  },
  {
   "cell_type": "code",
   "execution_count": null,
   "metadata": {},
   "outputs": [],
   "source": []
  }
 ],
 "metadata": {
  "kernelspec": {
   "display_name": "Python 3",
   "language": "python",
   "name": "python3"
  },
  "language_info": {
   "codemirror_mode": {
    "name": "ipython",
    "version": 3
   },
   "file_extension": ".py",
   "mimetype": "text/x-python",
   "name": "python",
   "nbconvert_exporter": "python",
   "pygments_lexer": "ipython3",
   "version": "3.7.4"
  }
 },
 "nbformat": 4,
 "nbformat_minor": 1
}
