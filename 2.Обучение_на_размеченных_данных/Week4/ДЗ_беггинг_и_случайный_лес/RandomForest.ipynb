{
 "cells": [
  {
   "cell_type": "code",
   "execution_count": 38,
   "metadata": {},
   "outputs": [],
   "source": [
    "from sklearn import datasets\n",
    "from sklearn.model_selection import cross_val_score,train_test_split\n",
    "from sklearn.tree import DecisionTreeClassifier\n",
    "from sklearn.ensemble import BaggingClassifier, RandomForestClassifier\n",
    "import math"
   ]
  },
  {
   "cell_type": "code",
   "execution_count": 4,
   "metadata": {},
   "outputs": [],
   "source": [
    "digits = datasets.load_digits()"
   ]
  },
  {
   "cell_type": "code",
   "execution_count": 5,
   "metadata": {},
   "outputs": [],
   "source": [
    "X=digits.data\n",
    "y=digits.target"
   ]
  },
  {
   "cell_type": "code",
   "execution_count": 19,
   "metadata": {},
   "outputs": [
    {
     "name": "stdout",
     "output_type": "stream",
     "text": [
      "0.8324545733737908\n"
     ]
    }
   ],
   "source": [
    "tree = DecisionTreeClassifier()\n",
    "score=cross_val_score(tree, X,y,cv=10)\n",
    "print(score.mean())\n",
    "file=open('answer1.txt','w')\n",
    "file.write(str(score.mean()))\n",
    "file.close()\n",
    "!cat answer1.txt"
   ]
  },
  {
   "cell_type": "code",
   "execution_count": 25,
   "metadata": {},
   "outputs": [
    {
     "name": "stdout",
     "output_type": "stream",
     "text": [
      "0.9265481135425754\n",
      "0.9265481135425754"
     ]
    }
   ],
   "source": [
    "clf=BaggingClassifier(n_estimators=100)\n",
    "score=cross_val_score(clf,X,y,cv=10)\n",
    "print(score.mean())\n",
    "file=open('answer2.txt','w')\n",
    "file.write(str(score.mean()))\n",
    "file.close()\n",
    "!cat answer2.txt"
   ]
  },
  {
   "cell_type": "code",
   "execution_count": 26,
   "metadata": {},
   "outputs": [
    {
     "name": "stdout",
     "output_type": "stream",
     "text": [
      "64\n"
     ]
    }
   ],
   "source": [
    "print(X.shape[1])"
   ]
  },
  {
   "cell_type": "code",
   "execution_count": 35,
   "metadata": {},
   "outputs": [
    {
     "name": "stdout",
     "output_type": "stream",
     "text": [
      "0.943312917490666\n",
      "0.943312917490666"
     ]
    }
   ],
   "source": [
    "clf=BaggingClassifier(n_estimators=100,max_features=8)\n",
    "score=cross_val_score(clf,X,y,cv=10)\n",
    "print(score.mean())\n",
    "file=open('answer3.txt','w')\n",
    "file.write(str(score.mean()))\n",
    "file.close()\n",
    "!cat answer3.txt"
   ]
  },
  {
   "cell_type": "code",
   "execution_count": 37,
   "metadata": {},
   "outputs": [
    {
     "name": "stdout",
     "output_type": "stream",
     "text": [
      "0.9516964768805597\n",
      "0.9516964768805597"
     ]
    }
   ],
   "source": [
    "tree=DecisionTreeClassifier(max_features='sqrt')\n",
    "clf=BaggingClassifier(base_estimator=tree,n_estimators=100)\n",
    "score=cross_val_score(clf,X,y,cv=10)\n",
    "print(score.mean())\n",
    "file=open('answer4.txt','w')\n",
    "file.write(str(score.mean()))\n",
    "file.close()\n",
    "!cat answer4.txt"
   ]
  },
  {
   "cell_type": "code",
   "execution_count": 53,
   "metadata": {},
   "outputs": [
    {
     "name": "stdout",
     "output_type": "stream",
     "text": [
      "0.9483473507760015\n"
     ]
    }
   ],
   "source": [
    "clf=RandomForestClassifier(n_estimators=100,max_features='sqrt')\n",
    "score=cross_val_score(clf,X,y,cv=10)\n",
    "print(score.mean())"
   ]
  },
  {
   "cell_type": "code",
   "execution_count": 54,
   "metadata": {},
   "outputs": [
    {
     "name": "stdout",
     "output_type": "stream",
     "text": [
      "2 3 4 7"
     ]
    }
   ],
   "source": [
    "file=open('answer5.txt','w')\n",
    "file.write('2 3 4 7')\n",
    "file.close()\n",
    "!cat answer5.txt"
   ]
  },
  {
   "cell_type": "code",
   "execution_count": null,
   "metadata": {},
   "outputs": [],
   "source": []
  }
 ],
 "metadata": {
  "kernelspec": {
   "display_name": "Python 3",
   "language": "python",
   "name": "python3"
  },
  "language_info": {
   "codemirror_mode": {
    "name": "ipython",
    "version": 3
   },
   "file_extension": ".py",
   "mimetype": "text/x-python",
   "name": "python",
   "nbconvert_exporter": "python",
   "pygments_lexer": "ipython3",
   "version": "3.7.4"
  }
 },
 "nbformat": 4,
 "nbformat_minor": 2
}
