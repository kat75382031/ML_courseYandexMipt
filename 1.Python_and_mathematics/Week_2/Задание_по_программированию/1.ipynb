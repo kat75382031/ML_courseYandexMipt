{
 "cells": [
  {
   "cell_type": "code",
   "execution_count": 253,
   "metadata": {},
   "outputs": [],
   "source": [
    "import re # for regular expressions\n",
    "import numpy as np\n",
    "from scipy.spatial import distance"
   ]
  },
  {
   "cell_type": "markdown",
   "metadata": {},
   "source": [
    "### Считываем файл и создаем лист из строк, находящихся в файле:"
   ]
  },
  {
   "cell_type": "code",
   "execution_count": 254,
   "metadata": {},
   "outputs": [],
   "source": [
    "file_obj = open('sentences.txt', 'r')\n",
    "sentences = file_obj.readlines()\n",
    "count_of_sentences=len(sentences)"
   ]
  },
  {
   "cell_type": "markdown",
   "metadata": {},
   "source": [
    "### Каждую строку из листа строк приводим к нижнеме регистру и а затем разделяе  на слова и добавляем их в общий массив слов (+ означает выражение, состоящее минимум из одного элемента, [^  ] - любое вхождение, состоящее НЕ из набора символов в скобках). del [words[-1] удаляет последний элемент листа( это пробел у нас всегда)"
   ]
  },
  {
   "cell_type": "code",
   "execution_count": 255,
   "metadata": {},
   "outputs": [],
   "source": [
    "words=[]\n",
    "for line in sentences:\n",
    "    line=line.lower()\n",
    "    words+=re.split('[^a-z]+',line)\n",
    "    del words[-1] #удаляем последний пробел в предложении"
   ]
  },
  {
   "cell_type": "markdown",
   "metadata": {},
   "source": [
    "### Создаем сет (он содержит НЕПОВТОРЯЮЩИЕСЯ слова) и трансформируем его в лист"
   ]
  },
  {
   "cell_type": "code",
   "execution_count": 256,
   "metadata": {},
   "outputs": [],
   "source": [
    "unique_words = list(set(words))"
   ]
  },
  {
   "cell_type": "markdown",
   "metadata": {},
   "source": [
    "### Создаем словарь, ключами которого являются числа массива, созданного с помощью функции np.arange (0...253) и записываем в словарь все уникальные слова"
   ]
  },
  {
   "cell_type": "code",
   "execution_count": 257,
   "metadata": {},
   "outputs": [],
   "source": [
    "d=dict.fromkeys(np.arange(len(unique_words)))\n",
    "i=0\n",
    "for word in unique_words:\n",
    "    d[i]=word\n",
    "    i+=1"
   ]
  },
  {
   "cell_type": "markdown",
   "metadata": {},
   "source": [
    "### Создаем нулевую матрицу заданного размера"
   ]
  },
  {
   "cell_type": "code",
   "execution_count": 258,
   "metadata": {},
   "outputs": [
    {
     "data": {
      "text/plain": [
       "(22, 254)"
      ]
     },
     "execution_count": 258,
     "metadata": {},
     "output_type": "execute_result"
    }
   ],
   "source": [
    "matrix=np.zeros((count_of_sentences,len(d)))\n",
    "matrix.shape"
   ]
  },
  {
   "cell_type": "markdown",
   "metadata": {},
   "source": [
    "### Делим каждое предложение на слова, удаляем последний пробел, сравниваем каждое уникально слово со словом сначала из первого, потом второго и тд предложения и считаем совпадения, потом записываем их в матрицу коэффициентов"
   ]
  },
  {
   "cell_type": "code",
   "execution_count": 259,
   "metadata": {},
   "outputs": [],
   "source": [
    "words=[]\n",
    "for i in range(count_of_sentences):\n",
    "    words = re.split('[^a-z]+', sentences[i].lower())\n",
    "    del words[-1]\n",
    "    for j in range(len(unique_words)): \n",
    "        count=0\n",
    "        for k in range(len(words)):\n",
    "            if unique_words[j]==words[k]:\n",
    "                count+=1\n",
    "        matrix[i,j]=count"
   ]
  },
  {
   "cell_type": "code",
   "execution_count": 260,
   "metadata": {},
   "outputs": [
    {
     "name": "stdout",
     "output_type": "stream",
     "text": [
      "1 0.9527544408738466\n",
      "2 0.8644738145642124\n",
      "3 0.8951715163278082\n",
      "4 0.7770887149698589\n",
      "5 0.9402385695332803\n",
      "6 0.7327387580875756\n",
      "7 0.9258750683338899\n",
      "8 0.8842724875284311\n",
      "9 0.9055088817476932\n",
      "10 0.8328165362273942\n",
      "11 0.8804771390665607\n",
      "12 0.8396432548525454\n",
      "13 0.8703592552895671\n",
      "14 0.8740118423302576\n",
      "15 0.9442721787424647\n",
      "16 0.8406361854220809\n",
      "17 0.956644501523794\n",
      "18 0.9442721787424647\n",
      "19 0.8885443574849294\n",
      "20 0.8427572744917122\n",
      "21 0.8250364469440588\n"
     ]
    }
   ],
   "source": [
    "dist={}\n",
    "for i in range(count_of_sentences):\n",
    "    if(i!=0):\n",
    "        print(i, distance.cosine(matrix[0,:], matrix[i,:]))"
   ]
  },
  {
   "cell_type": "code",
   "execution_count": 232,
   "metadata": {},
   "outputs": [],
   "source": [
    "f=open(\"answer1.txt\", 'w')\n",
    "f.write('4 6')\n",
    "f.close()"
   ]
  },
  {
   "cell_type": "code",
   "execution_count": 249,
   "metadata": {},
   "outputs": [
    {
     "name": "stdout",
     "output_type": "stream",
     "text": [
      "4 6"
     ]
    }
   ],
   "source": [
    "!cat answer1.txt"
   ]
  },
  {
   "cell_type": "code",
   "execution_count": null,
   "metadata": {},
   "outputs": [],
   "source": []
  },
  {
   "cell_type": "code",
   "execution_count": null,
   "metadata": {},
   "outputs": [],
   "source": []
  }
 ],
 "metadata": {
  "kernelspec": {
   "display_name": "Python 3",
   "language": "python",
   "name": "python3"
  },
  "language_info": {
   "codemirror_mode": {
    "name": "ipython",
    "version": 3
   },
   "file_extension": ".py",
   "mimetype": "text/x-python",
   "name": "python",
   "nbconvert_exporter": "python",
   "pygments_lexer": "ipython3",
   "version": "3.7.4"
  }
 },
 "nbformat": 4,
 "nbformat_minor": 2
}
