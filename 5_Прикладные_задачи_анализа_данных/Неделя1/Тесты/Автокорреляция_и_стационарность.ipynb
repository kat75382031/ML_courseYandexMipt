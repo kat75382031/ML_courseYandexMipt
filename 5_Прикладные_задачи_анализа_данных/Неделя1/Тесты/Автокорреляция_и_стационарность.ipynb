{
 "cells": [
  {
   "cell_type": "code",
   "execution_count": 9,
   "metadata": {},
   "outputs": [],
   "source": [
    "import pandas as pd"
   ]
  },
  {
   "cell_type": "code",
   "execution_count": 40,
   "metadata": {},
   "outputs": [
    {
     "data": {
      "text/html": [
       "<div>\n",
       "<style scoped>\n",
       "    .dataframe tbody tr th:only-of-type {\n",
       "        vertical-align: middle;\n",
       "    }\n",
       "\n",
       "    .dataframe tbody tr th {\n",
       "        vertical-align: top;\n",
       "    }\n",
       "\n",
       "    .dataframe thead th {\n",
       "        text-align: right;\n",
       "    }\n",
       "</style>\n",
       "<table border=\"1\" class=\"dataframe\">\n",
       "  <thead>\n",
       "    <tr style=\"text-align: right;\">\n",
       "      <th></th>\n",
       "      <th>milk</th>\n",
       "    </tr>\n",
       "    <tr>\n",
       "      <th>month</th>\n",
       "      <th></th>\n",
       "    </tr>\n",
       "  </thead>\n",
       "  <tbody>\n",
       "    <tr>\n",
       "      <td>1962-01-01</td>\n",
       "      <td>589</td>\n",
       "    </tr>\n",
       "    <tr>\n",
       "      <td>1962-02-01</td>\n",
       "      <td>561</td>\n",
       "    </tr>\n",
       "    <tr>\n",
       "      <td>1962-03-01</td>\n",
       "      <td>640</td>\n",
       "    </tr>\n",
       "    <tr>\n",
       "      <td>1962-04-01</td>\n",
       "      <td>656</td>\n",
       "    </tr>\n",
       "    <tr>\n",
       "      <td>1962-05-01</td>\n",
       "      <td>727</td>\n",
       "    </tr>\n",
       "    <tr>\n",
       "      <td>...</td>\n",
       "      <td>...</td>\n",
       "    </tr>\n",
       "    <tr>\n",
       "      <td>1975-08-01</td>\n",
       "      <td>858</td>\n",
       "    </tr>\n",
       "    <tr>\n",
       "      <td>1975-09-01</td>\n",
       "      <td>817</td>\n",
       "    </tr>\n",
       "    <tr>\n",
       "      <td>1975-10-01</td>\n",
       "      <td>827</td>\n",
       "    </tr>\n",
       "    <tr>\n",
       "      <td>1975-11-01</td>\n",
       "      <td>797</td>\n",
       "    </tr>\n",
       "    <tr>\n",
       "      <td>1975-12-01</td>\n",
       "      <td>843</td>\n",
       "    </tr>\n",
       "  </tbody>\n",
       "</table>\n",
       "<p>168 rows × 1 columns</p>\n",
       "</div>"
      ],
      "text/plain": [
       "            milk\n",
       "month           \n",
       "1962-01-01   589\n",
       "1962-02-01   561\n",
       "1962-03-01   640\n",
       "1962-04-01   656\n",
       "1962-05-01   727\n",
       "...          ...\n",
       "1975-08-01   858\n",
       "1975-09-01   817\n",
       "1975-10-01   827\n",
       "1975-11-01   797\n",
       "1975-12-01   843\n",
       "\n",
       "[168 rows x 1 columns]"
      ]
     },
     "execution_count": 40,
     "metadata": {},
     "output_type": "execute_result"
    }
   ],
   "source": [
    "milk = pd.read_csv('monthly-milk-production.csv',';', index_col=['month'], parse_dates=['month'], dayfirst=True)\n",
    "milk"
   ]
  },
  {
   "cell_type": "code",
   "execution_count": 41,
   "metadata": {},
   "outputs": [
    {
     "data": {
      "text/plain": [
       "<matplotlib.axes._subplots.AxesSubplot at 0x7f76f9499f90>"
      ]
     },
     "execution_count": 41,
     "metadata": {},
     "output_type": "execute_result"
    },
    {
     "data": {
      "image/png": "[encoded data removed]",
      "text/plain": [
       "<Figure size 432x288 with 1 Axes>"
      ]
     },
     "metadata": {
      "needs_background": "light"
     },
     "output_type": "display_data"
    }
   ],
   "source": [
    "milk.plot()"
   ]
  },
  {
   "cell_type": "code",
   "execution_count": 42,
   "metadata": {},
   "outputs": [
    {
     "data": {
      "text/plain": [
       "(-1.3038115874221246,\n",
       " 0.627426708603034,\n",
       " 13,\n",
       " 154,\n",
       " {'1%': -3.473542528196209,\n",
       "  '5%': -2.880497674144038,\n",
       "  '10%': -2.576878053634677},\n",
       " 1115.1730447395112)"
      ]
     },
     "execution_count": 42,
     "metadata": {},
     "output_type": "execute_result"
    }
   ],
   "source": [
    "import statsmodels.api as sm\n",
    "sm.tsa.stattools.adfuller(milk.milk)"
   ]
  },
  {
   "cell_type": "code",
   "execution_count": 43,
   "metadata": {},
   "outputs": [
    {
     "data": {
      "text/plain": [
       "0.63"
      ]
     },
     "execution_count": 43,
     "metadata": {},
     "output_type": "execute_result"
    }
   ],
   "source": [
    "round(0.627426708603034,2)"
   ]
  },
  {
   "cell_type": "code",
   "execution_count": 44,
   "metadata": {},
   "outputs": [],
   "source": [
    "from calendar import monthrange"
   ]
  },
  {
   "cell_type": "code",
   "execution_count": 45,
   "metadata": {},
   "outputs": [
    {
     "data": {
      "text/plain": [
       "milk    589\n",
       "Name: 1962-01-01 00:00:00, dtype: int64"
      ]
     },
     "execution_count": 45,
     "metadata": {},
     "output_type": "execute_result"
    }
   ],
   "source": [
    "milk.iloc[0]"
   ]
  },
  {
   "cell_type": "code",
   "execution_count": 46,
   "metadata": {},
   "outputs": [],
   "source": [
    "import numpy as np"
   ]
  },
  {
   "cell_type": "code",
   "execution_count": 47,
   "metadata": {},
   "outputs": [
    {
     "data": {
      "text/plain": [
       "array([1962, 1963, 1964, 1965, 1966, 1967, 1968, 1969, 1970, 1971, 1972,\n",
       "       1973, 1974, 1975])"
      ]
     },
     "execution_count": 47,
     "metadata": {},
     "output_type": "execute_result"
    }
   ],
   "source": [
    "years=np.arange(1962,1976)\n",
    "years"
   ]
  },
  {
   "cell_type": "code",
   "execution_count": 48,
   "metadata": {},
   "outputs": [
    {
     "data": {
      "text/plain": [
       "array([ 1,  2,  3,  4,  5,  6,  7,  8,  9, 10, 11, 12])"
      ]
     },
     "execution_count": 48,
     "metadata": {},
     "output_type": "execute_result"
    }
   ],
   "source": [
    "month=np.arange(1,13)\n",
    "month"
   ]
  },
  {
   "cell_type": "code",
   "execution_count": 49,
   "metadata": {},
   "outputs": [
    {
     "data": {
      "text/html": [
       "<div>\n",
       "<style scoped>\n",
       "    .dataframe tbody tr th:only-of-type {\n",
       "        vertical-align: middle;\n",
       "    }\n",
       "\n",
       "    .dataframe tbody tr th {\n",
       "        vertical-align: top;\n",
       "    }\n",
       "\n",
       "    .dataframe thead th {\n",
       "        text-align: right;\n",
       "    }\n",
       "</style>\n",
       "<table border=\"1\" class=\"dataframe\">\n",
       "  <thead>\n",
       "    <tr style=\"text-align: right;\">\n",
       "      <th></th>\n",
       "      <th>milk</th>\n",
       "    </tr>\n",
       "    <tr>\n",
       "      <th>month</th>\n",
       "      <th></th>\n",
       "    </tr>\n",
       "  </thead>\n",
       "  <tbody>\n",
       "    <tr>\n",
       "      <td>1962-01-01</td>\n",
       "      <td>19.000000</td>\n",
       "    </tr>\n",
       "    <tr>\n",
       "      <td>1962-02-01</td>\n",
       "      <td>20.035714</td>\n",
       "    </tr>\n",
       "    <tr>\n",
       "      <td>1962-03-01</td>\n",
       "      <td>20.645161</td>\n",
       "    </tr>\n",
       "    <tr>\n",
       "      <td>1962-04-01</td>\n",
       "      <td>21.866667</td>\n",
       "    </tr>\n",
       "    <tr>\n",
       "      <td>1962-05-01</td>\n",
       "      <td>23.451613</td>\n",
       "    </tr>\n",
       "    <tr>\n",
       "      <td>...</td>\n",
       "      <td>...</td>\n",
       "    </tr>\n",
       "    <tr>\n",
       "      <td>1975-08-01</td>\n",
       "      <td>27.677419</td>\n",
       "    </tr>\n",
       "    <tr>\n",
       "      <td>1975-09-01</td>\n",
       "      <td>27.233333</td>\n",
       "    </tr>\n",
       "    <tr>\n",
       "      <td>1975-10-01</td>\n",
       "      <td>26.677419</td>\n",
       "    </tr>\n",
       "    <tr>\n",
       "      <td>1975-11-01</td>\n",
       "      <td>26.566667</td>\n",
       "    </tr>\n",
       "    <tr>\n",
       "      <td>1975-12-01</td>\n",
       "      <td>27.193548</td>\n",
       "    </tr>\n",
       "  </tbody>\n",
       "</table>\n",
       "<p>168 rows × 1 columns</p>\n",
       "</div>"
      ],
      "text/plain": [
       "                 milk\n",
       "month                \n",
       "1962-01-01  19.000000\n",
       "1962-02-01  20.035714\n",
       "1962-03-01  20.645161\n",
       "1962-04-01  21.866667\n",
       "1962-05-01  23.451613\n",
       "...               ...\n",
       "1975-08-01  27.677419\n",
       "1975-09-01  27.233333\n",
       "1975-10-01  26.677419\n",
       "1975-11-01  26.566667\n",
       "1975-12-01  27.193548\n",
       "\n",
       "[168 rows x 1 columns]"
      ]
     },
     "execution_count": 49,
     "metadata": {},
     "output_type": "execute_result"
    }
   ],
   "source": [
    "count=0\n",
    "for i in range(len(years)):\n",
    "    for j in range(len(month)):\n",
    "        milk.iloc[count]/=monthrange(years[i],month[j])[1]\n",
    "        count+=1\n",
    "milk"
   ]
  },
  {
   "cell_type": "code",
   "execution_count": 50,
   "metadata": {},
   "outputs": [
    {
     "data": {
      "text/plain": [
       "<matplotlib.axes._subplots.AxesSubplot at 0x7f76fe9dddd0>"
      ]
     },
     "execution_count": 50,
     "metadata": {},
     "output_type": "execute_result"
    },
    {
     "data": {
      "image/png": "[encoded data removed]",
      "text/plain": [
       "<Figure size 432x288 with 1 Axes>"
      ]
     },
     "metadata": {
      "needs_background": "light"
     },
     "output_type": "display_data"
    }
   ],
   "source": [
    "milk.plot()"
   ]
  },
  {
   "cell_type": "code",
   "execution_count": 53,
   "metadata": {},
   "outputs": [
    {
     "data": {
      "text/plain": [
       "milk    4166.33\n",
       "dtype: float64"
      ]
     },
     "execution_count": 53,
     "metadata": {},
     "output_type": "execute_result"
    }
   ],
   "source": [
    "round(milk.sum(),2)"
   ]
  },
  {
   "cell_type": "code",
   "execution_count": 60,
   "metadata": {},
   "outputs": [],
   "source": [
    "milk_daily_diff1= milk.milk - milk.milk.shift(1)"
   ]
  },
  {
   "cell_type": "code",
   "execution_count": 62,
   "metadata": {},
   "outputs": [],
   "source": [
    "milk_daily_diff1.dropna(inplace=True)"
   ]
  },
  {
   "cell_type": "code",
   "execution_count": 64,
   "metadata": {},
   "outputs": [
    {
     "data": {
      "text/plain": [
       "month\n",
       "1962-02-01    1.035714\n",
       "1962-03-01    0.609447\n",
       "1962-04-01    1.221505\n",
       "1962-05-01    1.584946\n",
       "1962-06-01   -0.218280\n",
       "                ...   \n",
       "1975-08-01   -1.225806\n",
       "1975-09-01   -0.444086\n",
       "1975-10-01   -0.555914\n",
       "1975-11-01   -0.110753\n",
       "1975-12-01    0.626882\n",
       "Name: milk, Length: 167, dtype: float64"
      ]
     },
     "execution_count": 64,
     "metadata": {},
     "output_type": "execute_result"
    }
   ],
   "source": [
    "milk_daily_diff1"
   ]
  },
  {
   "cell_type": "code",
   "execution_count": 78,
   "metadata": {},
   "outputs": [
    {
     "data": {
      "text/plain": [
       "(-2.759469476228902,\n",
       " 0.0643005465417483,\n",
       " 11,\n",
       " 155,\n",
       " {'1%': -3.4732590518613002,\n",
       "  '5%': -2.880374082105334,\n",
       "  '10%': -2.5768120811654525},\n",
       " -1.1539973381055688)"
      ]
     },
     "execution_count": 78,
     "metadata": {},
     "output_type": "execute_result"
    }
   ],
   "source": [
    "sm.tsa.stattools.adfuller(milk_daily_diff1)"
   ]
  },
  {
   "cell_type": "markdown",
   "metadata": {},
   "source": [
    "=> после однокрастного дифференцирования ряд все еще модет быть нестационарным"
   ]
  },
  {
   "cell_type": "code",
   "execution_count": 79,
   "metadata": {},
   "outputs": [
    {
     "data": {
      "text/plain": [
       "month\n",
       "1963-01-01    0.354839\n",
       "1963-02-01    0.178571\n",
       "1963-03-01    0.419355\n",
       "1963-04-01    0.566667\n",
       "1963-05-01    0.483871\n",
       "                ...   \n",
       "1975-08-01   -0.290323\n",
       "1975-09-01    0.066667\n",
       "1975-10-01    0.483871\n",
       "1975-11-01    0.800000\n",
       "1975-12-01    0.967742\n",
       "Name: milk, Length: 156, dtype: float64"
      ]
     },
     "execution_count": 79,
     "metadata": {},
     "output_type": "execute_result"
    }
   ],
   "source": [
    "milk_daily_diff12= milk.milk - milk.milk.shift(12)\n",
    "milk_daily_diff12.dropna(inplace=True)\n",
    "milk_daily_diff12"
   ]
  },
  {
   "cell_type": "code",
   "execution_count": 80,
   "metadata": {},
   "outputs": [
    {
     "data": {
      "text/plain": [
       "(-2.1594860932888085,\n",
       " 0.22127672658830344,\n",
       " 12,\n",
       " 143,\n",
       " {'1%': -3.4769274060112707,\n",
       "  '5%': -2.8819726324025625,\n",
       "  '10%': -2.577665408088415},\n",
       " -25.225679141303317)"
      ]
     },
     "execution_count": 80,
     "metadata": {},
     "output_type": "execute_result"
    }
   ],
   "source": [
    "sm.tsa.stattools.adfuller(milk_daily_diff12)"
   ]
  },
  {
   "cell_type": "markdown",
   "metadata": {},
   "source": [
    "=> после сезонного дифференцирования ряд не стал стационарным"
   ]
  },
  {
   "cell_type": "code",
   "execution_count": 83,
   "metadata": {},
   "outputs": [
    {
     "data": {
      "text/plain": [
       "month\n",
       "1963-02-01   -0.176267\n",
       "1963-03-01    0.240783\n",
       "1963-04-01    0.147312\n",
       "1963-05-01   -0.082796\n",
       "1963-06-01    0.149462\n",
       "                ...   \n",
       "1975-08-01    0.096774\n",
       "1975-09-01    0.356989\n",
       "1975-10-01    0.417204\n",
       "1975-11-01    0.316129\n",
       "1975-12-01    0.167742\n",
       "Name: milk, Length: 155, dtype: float64"
      ]
     },
     "execution_count": 83,
     "metadata": {},
     "output_type": "execute_result"
    }
   ],
   "source": [
    "milk_diff_12_1=milk_daily_diff12-milk_daily_diff12.shift(1)\n",
    "milk_diff_12_1.dropna(inplace=True)\n",
    "milk_diff_12_1"
   ]
  },
  {
   "cell_type": "code",
   "execution_count": 85,
   "metadata": {},
   "outputs": [
    {
     "data": {
      "text/plain": [
       "(-5.481326334796932,\n",
       " 2.2808455518036712e-06,\n",
       " 11,\n",
       " 143,\n",
       " {'1%': -3.4769274060112707,\n",
       "  '5%': -2.8819726324025625,\n",
       "  '10%': -2.577665408088415},\n",
       " -20.905137509892256)"
      ]
     },
     "execution_count": 85,
     "metadata": {},
     "output_type": "execute_result"
    }
   ],
   "source": [
    "sm.tsa.stattools.adfuller(milk_diff_12_1)"
   ]
  },
  {
   "cell_type": "markdown",
   "metadata": {},
   "source": [
    "=> нулевая гипотеза о нестационарности ряда отвергается в пользу альтернативы после последовательног применения сезонного и обычного дифференцирования"
   ]
  },
  {
   "cell_type": "code",
   "execution_count": 86,
   "metadata": {},
   "outputs": [
    {
     "data": {
      "image/png": "[encoded data removed]",
      "text/plain": [
       "<Figure size 432x288 with 1 Axes>"
      ]
     },
     "execution_count": 86,
     "metadata": {},
     "output_type": "execute_result"
    },
    {
     "data": {
      "image/png": "[encoded data removed]",
      "text/plain": [
       "<Figure size 432x288 with 1 Axes>"
      ]
     },
     "metadata": {
      "needs_background": "light"
     },
     "output_type": "display_data"
    }
   ],
   "source": [
    "sm.graphics.tsa.plot_acf(milk_diff_12_1.values.squeeze(), lags=50)"
   ]
  },
  {
   "cell_type": "markdown",
   "metadata": {},
   "source": [
    "=> Q=1 (12 сезонззый лаг/12)"
   ]
  },
  {
   "cell_type": "code",
   "execution_count": 87,
   "metadata": {},
   "outputs": [
    {
     "data": {
      "image/png": "[encoded data removed]",
      "text/plain": [
       "<Figure size 432x288 with 1 Axes>"
      ]
     },
     "execution_count": 87,
     "metadata": {},
     "output_type": "execute_result"
    },
    {
     "data": {
      "image/png": "[encoded data removed]",
      "text/plain": [
       "<Figure size 432x288 with 1 Axes>"
      ]
     },
     "metadata": {
      "needs_background": "light"
     },
     "output_type": "display_data"
    }
   ],
   "source": [
    "sm.graphics.tsa.plot_pacf(milk_diff_12_1.values.squeeze(), lags=50)"
   ]
  },
  {
   "cell_type": "markdown",
   "metadata": {},
   "source": [
    "=> p=0"
   ]
  },
  {
   "cell_type": "code",
   "execution_count": null,
   "metadata": {},
   "outputs": [],
   "source": []
  }
 ],
 "metadata": {
  "kernelspec": {
   "display_name": "Python 3",
   "language": "python",
   "name": "python3"
  },
  "language_info": {
   "codemirror_mode": {
    "name": "ipython",
    "version": 3
   },
   "file_extension": ".py",
   "mimetype": "text/x-python",
   "name": "python",
   "nbconvert_exporter": "python",
   "pygments_lexer": "ipython3",
   "version": "3.7.4"
  }
 },
 "nbformat": 4,
 "nbformat_minor": 2
}
