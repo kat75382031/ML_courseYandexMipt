{
 "cells": [
  {
   "cell_type": "code",
   "execution_count": 158,
   "metadata": {},
   "outputs": [],
   "source": [
    "import pandas as pd\n",
    "import numpy as np\n",
    "from sklearn.cluster import MeanShift\n",
    "from scipy.spatial.distance import euclidean"
   ]
  },
  {
   "cell_type": "code",
   "execution_count": 159,
   "metadata": {},
   "outputs": [
    {
     "name": "stderr",
     "output_type": "stream",
     "text": [
      "/home/eketerina753/anaconda3/lib/python3.7/site-packages/IPython/core/interactiveshell.py:3058: DtypeWarning: Columns (0) have mixed types. Specify dtype option on import or set low_memory=False.\n",
      "  interactivity=interactivity, compiler=compiler, result=result)\n"
     ]
    }
   ],
   "source": [
    "data = pd.read_csv('checkins.dat', sep='|', header=0, skipinitialspace=True)\n",
    "data.dropna(inplace=True)"
   ]
  },
  {
   "cell_type": "code",
   "execution_count": 160,
   "metadata": {},
   "outputs": [
    {
     "data": {
      "text/html": [
       "<div>\n",
       "<style scoped>\n",
       "    .dataframe tbody tr th:only-of-type {\n",
       "        vertical-align: middle;\n",
       "    }\n",
       "\n",
       "    .dataframe tbody tr th {\n",
       "        vertical-align: top;\n",
       "    }\n",
       "\n",
       "    .dataframe thead th {\n",
       "        text-align: right;\n",
       "    }\n",
       "</style>\n",
       "<table border=\"1\" class=\"dataframe\">\n",
       "  <thead>\n",
       "    <tr style=\"text-align: right;\">\n",
       "      <th></th>\n",
       "      <th>id</th>\n",
       "      <th>user_id</th>\n",
       "      <th>venue_id</th>\n",
       "      <th>latitude</th>\n",
       "      <th>longitude</th>\n",
       "      <th>created_at</th>\n",
       "    </tr>\n",
       "  </thead>\n",
       "  <tbody>\n",
       "    <tr>\n",
       "      <td>2</td>\n",
       "      <td>984222</td>\n",
       "      <td>15824.0</td>\n",
       "      <td>5222.0</td>\n",
       "      <td>38.895112</td>\n",
       "      <td>-77.036366</td>\n",
       "      <td>2012-04-21 17:43:47</td>\n",
       "    </tr>\n",
       "    <tr>\n",
       "      <td>4</td>\n",
       "      <td>984234</td>\n",
       "      <td>44652.0</td>\n",
       "      <td>5222.0</td>\n",
       "      <td>33.800745</td>\n",
       "      <td>-84.410520</td>\n",
       "      <td>2012-04-21 17:43:43</td>\n",
       "    </tr>\n",
       "    <tr>\n",
       "      <td>8</td>\n",
       "      <td>984291</td>\n",
       "      <td>105054.0</td>\n",
       "      <td>5222.0</td>\n",
       "      <td>45.523452</td>\n",
       "      <td>-122.676207</td>\n",
       "      <td>2012-04-21 17:39:22</td>\n",
       "    </tr>\n",
       "    <tr>\n",
       "      <td>10</td>\n",
       "      <td>984318</td>\n",
       "      <td>2146539.0</td>\n",
       "      <td>5222.0</td>\n",
       "      <td>40.764462</td>\n",
       "      <td>-111.904565</td>\n",
       "      <td>2012-04-21 17:35:46</td>\n",
       "    </tr>\n",
       "    <tr>\n",
       "      <td>11</td>\n",
       "      <td>984232</td>\n",
       "      <td>93870.0</td>\n",
       "      <td>380645.0</td>\n",
       "      <td>33.448377</td>\n",
       "      <td>-112.074037</td>\n",
       "      <td>2012-04-21 17:38:18</td>\n",
       "    </tr>\n",
       "  </tbody>\n",
       "</table>\n",
       "</div>"
      ],
      "text/plain": [
       "     id       user_id   venue_id   latitude        longitude       \\\n",
       "2   984222     15824.0     5222.0       38.895112      -77.036366   \n",
       "4   984234     44652.0     5222.0       33.800745      -84.410520   \n",
       "8   984291    105054.0     5222.0       45.523452     -122.676207   \n",
       "10  984318   2146539.0     5222.0       40.764462     -111.904565   \n",
       "11  984232     93870.0   380645.0       33.448377     -112.074037   \n",
       "\n",
       "       created_at        \n",
       "2   2012-04-21 17:43:47  \n",
       "4   2012-04-21 17:43:43  \n",
       "8   2012-04-21 17:39:22  \n",
       "10  2012-04-21 17:35:46  \n",
       "11  2012-04-21 17:38:18  "
      ]
     },
     "execution_count": 160,
     "metadata": {},
     "output_type": "execute_result"
    }
   ],
   "source": [
    "data.head()"
   ]
  },
  {
   "cell_type": "code",
   "execution_count": 161,
   "metadata": {},
   "outputs": [],
   "source": [
    "X=data.iloc[:100000,3:5]\n",
    "ms=MeanShift(bandwidth=0.1).fit(X)"
   ]
  },
  {
   "cell_type": "code",
   "execution_count": 237,
   "metadata": {},
   "outputs": [
    {
     "name": "stdout",
     "output_type": "stream",
     "text": [
      "[[  40.7177164   -73.99183542]\n",
      " [  33.44943805 -112.00213969]\n",
      " [  33.44638027 -111.90188756]\n",
      " ...\n",
      " [ -37.8229826   145.1811902 ]\n",
      " [ -41.2924945   174.7732353 ]\n",
      " [ -45.0311622   168.6626435 ]]\n"
     ]
    }
   ],
   "source": [
    "centers=ms.cluster_centers_\n",
    "labels=ms.labels_\n",
    "\n",
    "print(centers)"
   ]
  },
  {
   "cell_type": "code",
   "execution_count": 163,
   "metadata": {},
   "outputs": [],
   "source": [
    "# считаем колическтво объектов для каждого кластера, где индекс в массиве - номер кластера\n",
    "count_in_clusters=np.bincount(labels)"
   ]
  },
  {
   "cell_type": "code",
   "execution_count": 164,
   "metadata": {},
   "outputs": [
    {
     "name": "stdout",
     "output_type": "stream",
     "text": [
      "[12506  4692  3994 ...     1     1     1]\n"
     ]
    }
   ],
   "source": [
    "print(count_in_clusters)"
   ]
  },
  {
   "cell_type": "code",
   "execution_count": 239,
   "metadata": {},
   "outputs": [
    {
     "name": "stdout",
     "output_type": "stream",
     "text": [
      "[12506  4692  3994 ...     0     0     0]\n"
     ]
    }
   ],
   "source": [
    "#если кол-во объектов в кластере меньше 16, то заменяем его на 0, чтобы потом с помощью функции np.nonzero получить номера кластеров, объектов в которых больше 15\n",
    "for i in range(len(count_in_clusters)):\n",
    "    if count_in_clusters[i]<=15:\n",
    "        count_in_clusters[i]=0\n",
    "print(count_in_clusters)\n",
    "actual_index_of_clusters=np.nonzero(count_in_clusters)\n",
    "#или\n",
    "#val, counts = np.unique(labels, return_counts=True)\n",
    "#labels_new = [l for l in val if counts[l] > 15]"
   ]
  },
  {
   "cell_type": "code",
   "execution_count": 166,
   "metadata": {},
   "outputs": [
    {
     "data": {
      "text/plain": [
       "(array([   0,    1,    2,    3,    4,    5,    6,    7,    8,    9,   10,\n",
       "          11,   12,   13,   14,   15,   16,   17,   18,   19,   20,   21,\n",
       "          22,   23,   24,   25,   26,   27,   28,   29,   30,   31,   32,\n",
       "          33,   34,   35,   36,   37,   38,   39,   40,   41,   42,   43,\n",
       "          44,   45,   46,   47,   48,   49,   50,   51,   52,   53,   54,\n",
       "          55,   56,   57,   58,   59,   60,   61,   62,   63,   64,   65,\n",
       "          66,   67,   68,   69,   70,   71,   72,   73,   74,   75,   76,\n",
       "          77,   78,   79,   80,   81,   82,   83,   84,   85,   86,   87,\n",
       "          88,   89,   90,   91,   92,   93,   94,   95,   96,   97,   98,\n",
       "          99,  100,  101,  102,  103,  104,  105,  106,  107,  108,  109,\n",
       "         110,  111,  112,  113,  114,  115,  116,  117,  118,  119,  120,\n",
       "         121,  122,  123,  124,  125,  126,  127,  128,  129,  130,  131,\n",
       "         132,  133,  134,  135,  136,  137,  138,  139,  140,  141,  142,\n",
       "         143,  144,  145,  146,  147,  148,  149,  150,  151,  152,  153,\n",
       "         154,  155,  156,  157,  158,  159,  160,  161,  162,  163,  164,\n",
       "         165,  166,  167,  168,  169,  170,  171,  172,  173,  174,  175,\n",
       "         176,  177,  178,  179,  180,  181,  182,  183,  184,  185,  186,\n",
       "         187,  188,  189,  190,  191,  192,  193,  194,  195,  196,  197,\n",
       "         198,  199,  200,  201,  202,  203,  204,  205,  206,  207,  208,\n",
       "         209,  210,  211,  212,  213,  214,  215,  216,  217,  218,  219,\n",
       "         220,  221,  222,  223,  224,  225,  226,  227,  228,  229,  230,\n",
       "         231,  232,  233,  234,  235,  236,  237,  238,  239,  240,  241,\n",
       "         242,  243,  244,  245,  246,  247,  248,  249,  250,  251,  252,\n",
       "         253,  254,  255,  256,  257,  258,  259,  260,  261,  262,  263,\n",
       "         264,  265,  266,  267,  268,  269,  270,  271,  272,  273,  274,\n",
       "         275,  276,  277,  278,  279,  280,  281,  282,  283,  284,  285,\n",
       "         286,  287,  288,  289,  290,  291,  292,  293,  294,  295,  296,\n",
       "         297,  298,  299,  300,  301,  302,  303,  304,  305,  306,  307,\n",
       "         308,  309,  310,  311,  312,  313,  314,  315,  316,  317,  318,\n",
       "         319,  320,  321,  322,  323,  324,  325,  326,  327,  328,  329,\n",
       "         330,  331,  332,  333,  334,  335,  337,  338,  339,  340,  341,\n",
       "         342,  343,  344,  345,  346,  347,  348,  349,  350,  351,  352,\n",
       "         353,  354,  355,  356,  357,  358,  359,  360,  361,  362,  363,\n",
       "         364,  365,  366,  367,  368,  369,  370,  371,  372,  373,  374,\n",
       "         375,  376,  377,  378,  379,  380,  381,  382,  383,  384,  385,\n",
       "         387,  388,  389,  390,  392,  393,  394,  395,  396,  397,  398,\n",
       "         399,  400,  401,  402,  403,  404,  405,  406,  407,  408,  409,\n",
       "         410,  411,  412,  413,  414,  415,  416,  417,  418,  419,  420,\n",
       "         421,  422,  423,  424,  425,  426,  427,  428,  429,  430,  431,\n",
       "         432,  433,  434,  435,  436,  437,  438,  439,  440,  441,  442,\n",
       "         443,  444,  445,  446,  447,  448,  449,  450,  451,  452,  453,\n",
       "         454,  455,  456,  457,  458,  459,  460,  461,  462,  463,  464,\n",
       "         465,  466,  467,  468,  469,  470,  471,  472,  473,  474,  475,\n",
       "         476,  477,  478,  480,  481,  482,  483,  484,  485,  486,  487,\n",
       "         488,  489,  490,  491,  492,  493,  494,  495,  496,  497,  498,\n",
       "         499,  500,  501,  502,  503,  504,  505,  506,  507,  508,  509,\n",
       "         510,  511,  512,  513,  514,  515,  517,  518,  519,  520,  521,\n",
       "         522,  523,  524,  525,  526,  527,  528,  529,  530,  531,  532,\n",
       "         533,  534,  535,  536,  537,  538,  539,  540,  541,  542,  544,\n",
       "         545,  546,  547,  549,  550,  551,  552,  553,  554,  555,  556,\n",
       "         557,  558,  559,  560,  561,  562,  564,  565,  566,  567,  568,\n",
       "         569,  571,  572,  573,  575,  576,  577,  578,  579,  581,  582,\n",
       "         583,  584,  585,  588,  589,  590,  591,  592,  593,  594,  595,\n",
       "         615,  636,  657,  672,  684,  727,  884, 1343, 1350]),)"
      ]
     },
     "execution_count": 166,
     "metadata": {},
     "output_type": "execute_result"
    }
   ],
   "source": [
    "actual_index_of_clusters"
   ]
  },
  {
   "cell_type": "code",
   "execution_count": 167,
   "metadata": {},
   "outputs": [],
   "source": [
    "# координаты офисов\n",
    "coords=np.array([[33.751277, -118.188740],\n",
    "\n",
    "[25.867736, -80.324116],\n",
    "\n",
    "[51.503016, -0.075479],\n",
    "\n",
    "[52.378894, 4.885084],\n",
    "\n",
    "[39.366487, 117.036146],\n",
    "\n",
    "[-33.868457, 151.205134]])"
   ]
  },
  {
   "cell_type": "code",
   "execution_count": 168,
   "metadata": {},
   "outputs": [
    {
     "name": "stdout",
     "output_type": "stream",
     "text": [
      "[  33.44943805 -112.00213969]\n"
     ]
    }
   ],
   "source": [
    "# получаем координаты центров кластеров, в которых больше 15 объектов\n",
    "actual_centers=centers[actual_index_of_clusters]\n",
    "print(centers[1])"
   ]
  },
  {
   "cell_type": "code",
   "execution_count": 228,
   "metadata": {},
   "outputs": [],
   "source": [
    "#считаем евклидово расстояние между каждым офисом и центром каждого класреа\n",
    "dist=[]\n",
    "for center in actual_centers:\n",
    "    for i in range(len(coords)):\n",
    "        dist.append(euclidean(coords[i,:], center))"
   ]
  },
  {
   "cell_type": "code",
   "execution_count": 230,
   "metadata": {},
   "outputs": [],
   "source": [
    "len(dist)\n",
    "d=dist"
   ]
  },
  {
   "cell_type": "code",
   "execution_count": 231,
   "metadata": {},
   "outputs": [
    {
     "name": "stdout",
     "output_type": "stream",
     "text": [
      "0.007834758163107856\n",
      "2507\n",
      "2217\n",
      "2497\n",
      "350\n",
      "306\n",
      "175\n",
      "1003\n",
      "553\n",
      "522\n",
      "252\n",
      "1746\n",
      "1921\n",
      "714\n",
      "331\n",
      "162\n",
      "66\n",
      "192\n",
      "955\n",
      "102\n",
      "282\n"
     ]
    }
   ],
   "source": [
    "# 20 раз ищем минимум, присваивая очередному минимуму макс значение, чтобы оно повторно не добавлялось в массив шндексв минимумов\n",
    "min_center_index=[]\n",
    "maximum=max(dist)\n",
    "print(dist[2507])\n",
    "for i in range(20):\n",
    "    ind=0\n",
    "    for i in range(1,len(d)):\n",
    "        if d[i]<d[ind]:\n",
    "            ind=i\n",
    "    print(ind)\n",
    "    d[ind]=maximum\n",
    "    min_center_index.append(ind)\n",
    "            \n",
    "        "
   ]
  },
  {
   "cell_type": "code",
   "execution_count": 232,
   "metadata": {},
   "outputs": [
    {
     "name": "stdout",
     "output_type": "stream",
     "text": [
      "[2507, 2217, 2497, 350, 306, 175, 1003, 553, 522, 252, 1746, 1921, 714, 331, 162, 66, 192, 955, 102, 282]\n"
     ]
    }
   ],
   "source": [
    "#вычиляем индекс клстера с учетом того, для для каждого кластера расстояние считалось 6 раз и они записаны подряд для каждого класса\n",
    "print(min_center_index)\n",
    "for i in range(len(min_center_index)):\n",
    "    min_center_index[i]//=6\n"
   ]
  },
  {
   "cell_type": "code",
   "execution_count": 233,
   "metadata": {},
   "outputs": [
    {
     "data": {
      "text/plain": [
       "[417,\n",
       " 369,\n",
       " 416,\n",
       " 58,\n",
       " 51,\n",
       " 29,\n",
       " 167,\n",
       " 92,\n",
       " 87,\n",
       " 42,\n",
       " 291,\n",
       " 320,\n",
       " 119,\n",
       " 55,\n",
       " 27,\n",
       " 11,\n",
       " 32,\n",
       " 159,\n",
       " 17,\n",
       " 47]"
      ]
     },
     "execution_count": 233,
     "metadata": {},
     "output_type": "execute_result"
    }
   ],
   "source": [
    "min_center_index"
   ]
  },
  {
   "cell_type": "code",
   "execution_count": 235,
   "metadata": {},
   "outputs": [
    {
     "data": {
      "text/plain": [
       "array([-33.86063043, 151.20477593])"
      ]
     },
     "execution_count": 235,
     "metadata": {},
     "output_type": "execute_result"
    }
   ],
   "source": [
    "#наименьшее расстояние имеет первый элемент из этого списка\n",
    "actual_centers[min_center_index[0]]"
   ]
  },
  {
   "cell_type": "code",
   "execution_count": 236,
   "metadata": {},
   "outputs": [
    {
     "name": "stdout",
     "output_type": "stream",
     "text": [
      "-33.86063043 151.20477593"
     ]
    }
   ],
   "source": [
    "f=open('ans.txt','w')\n",
    "f.write('-33.86063043 151.20477593')\n",
    "f.close()\n",
    "!cat ans.txt"
   ]
  },
  {
   "cell_type": "code",
   "execution_count": null,
   "metadata": {},
   "outputs": [],
   "source": []
  }
 ],
 "metadata": {
  "kernelspec": {
   "display_name": "Python 3",
   "language": "python",
   "name": "python3"
  },
  "language_info": {
   "codemirror_mode": {
    "name": "ipython",
    "version": 3
   },
   "file_extension": ".py",
   "mimetype": "text/x-python",
   "name": "python",
   "nbconvert_exporter": "python",
   "pygments_lexer": "ipython3",
   "version": "3.7.4"
  }
 },
 "nbformat": 4,
 "nbformat_minor": 2
}
